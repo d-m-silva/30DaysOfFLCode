{
  "nbformat": 4,
  "nbformat_minor": 0,
  "metadata": {
    "kernelspec": {
      "display_name": "Python 3",
      "language": "python",
      "name": "python3"
    },
    "language_info": {
      "codemirror_mode": {
        "name": "ipython",
        "version": 3
      },
      "file_extension": ".py",
      "mimetype": "text/x-python",
      "name": "python",
      "nbconvert_exporter": "python",
      "pygments_lexer": "ipython3",
      "version": "3.8.2"
    },
    "toc": {
      "base_numbering": 1,
      "nav_menu": {},
      "number_sections": true,
      "sideBar": true,
      "skip_h1_title": false,
      "title_cell": "Table of Contents",
      "title_sidebar": "Contents",
      "toc_cell": false,
      "toc_position": {},
      "toc_section_display": true,
      "toc_window_display": false
    },
    "colab": {
      "provenance": [],
      "include_colab_link": true
    }
  },
  "cells": [
    {
      "cell_type": "markdown",
      "metadata": {
        "id": "view-in-github",
        "colab_type": "text"
      },
      "source": [
        "<a href=\"https://colab.research.google.com/github/d-m-silva/30DaysOfFLCode/blob/main/%22days/Day%2029%22/vanilla_encoding_decoding_ckks.ipynb\" target=\"_parent\"><img src=\"https://colab.research.google.com/assets/colab-badge.svg\" alt=\"Open In Colab\"/></a>"
      ]
    },
    {
      "cell_type": "markdown",
      "metadata": {
        "id": "dpcl0e2bbkAe"
      },
      "source": [
        "# CKKS explained: Part 1, Vanilla Encoding and Decoding"
      ]
    },
    {
      "cell_type": "markdown",
      "metadata": {
        "id": "TwbY3m8u1tt_"
      },
      "source": [
        "We will see in this notebook how to implement a Vanilla encoder and decoder in CKKS."
      ]
    },
    {
      "cell_type": "code",
      "metadata": {
        "ExecuteTime": {
          "end_time": "2020-05-23T17:09:55.396205Z",
          "start_time": "2020-05-23T17:09:55.177934Z"
        },
        "id": "4doPRFpJbkAz",
        "colab": {
          "base_uri": "https://localhost:8080/"
        },
        "outputId": "9e28f117-3dcf-4595-a4f7-c9ed29e55cf0"
      },
      "source": [
        "import numpy as np\n",
        "\n",
        "# First we set the parameters\n",
        "M = 8\n",
        "N = M //2\n",
        "\n",
        "# We set xi, which will be used in our computations\n",
        "xi = np.exp(2 * np.pi * 1j / M)\n",
        "xi"
      ],
      "execution_count": 1,
      "outputs": [
        {
          "output_type": "execute_result",
          "data": {
            "text/plain": [
              "(0.7071067811865476+0.7071067811865475j)"
            ]
          },
          "metadata": {},
          "execution_count": 1
        }
      ]
    },
    {
      "cell_type": "code",
      "metadata": {
        "ExecuteTime": {
          "end_time": "2020-05-23T17:09:55.414687Z",
          "start_time": "2020-05-23T17:09:55.402321Z"
        },
        "id": "vWCI2BS2bkBD"
      },
      "source": [
        "from numpy.polynomial import Polynomial\n",
        "\n",
        "class CKKSEncoder:\n",
        "    \"\"\"Basic CKKS encoder to encode complex vectors into polynomials.\"\"\"\n",
        "\n",
        "    def __init__(self, M: int):\n",
        "        \"\"\"Initialization of the encoder for M a power of 2.\n",
        "\n",
        "        xi, which is an M-th root of unity will, be used as a basis for our computations.\n",
        "        \"\"\"\n",
        "        self.xi = np.exp(2 * np.pi * 1j / M)\n",
        "        self.M = M\n",
        "\n",
        "    @staticmethod\n",
        "    def vandermonde(xi: np.complex128, M: int) -> np.array:\n",
        "        \"\"\"Computes the Vandermonde matrix from a m-th root of unity.\"\"\"\n",
        "\n",
        "        N = M //2\n",
        "        matrix = []\n",
        "        # We will generate each row of the matrix\n",
        "        for i in range(N):\n",
        "            # For each row we select a different root\n",
        "            root = xi ** (2 * i + 1)\n",
        "            row = []\n",
        "\n",
        "            # Then we store its powers\n",
        "            for j in range(N):\n",
        "                row.append(root ** j)\n",
        "            matrix.append(row)\n",
        "        return matrix\n",
        "\n",
        "    def sigma_inverse(self, b: np.array) -> Polynomial:\n",
        "        \"\"\"Encodes the vector b in a polynomial using an M-th root of unity.\"\"\"\n",
        "\n",
        "        # First we create the Vandermonde matrix\n",
        "        A = CKKSEncoder.vandermonde(self.xi, M)\n",
        "\n",
        "        # Then we solve the system\n",
        "        coeffs = np.linalg.solve(A, b)\n",
        "\n",
        "        # Finally we output the polynomial\n",
        "        p = Polynomial(coeffs)\n",
        "        return p\n",
        "\n",
        "    def sigma(self, p: Polynomial) -> np.array:\n",
        "        \"\"\"Decodes a polynomial by applying it to the M-th roots of unity.\"\"\"\n",
        "\n",
        "        outputs = []\n",
        "        N = self.M //2\n",
        "\n",
        "        # We simply apply the polynomial on the roots\n",
        "        for i in range(N):\n",
        "            root = self.xi ** (2 * i + 1)\n",
        "            output = p(root)\n",
        "            outputs.append(output)\n",
        "        return np.array(outputs)"
      ],
      "execution_count": 2,
      "outputs": []
    },
    {
      "cell_type": "markdown",
      "metadata": {
        "id": "G7cruObabkBS"
      },
      "source": [
        "Now we can start experimenting with real values, let's first encode a vector and see how it is encoded."
      ]
    },
    {
      "cell_type": "code",
      "metadata": {
        "ExecuteTime": {
          "end_time": "2020-05-23T17:09:55.436335Z",
          "start_time": "2020-05-23T17:09:55.420552Z"
        },
        "id": "5ujtbJuzbkBU"
      },
      "source": [
        "# First we initialize our encoder\n",
        "encoder = CKKSEncoder(M)"
      ],
      "execution_count": 3,
      "outputs": []
    },
    {
      "cell_type": "code",
      "metadata": {
        "ExecuteTime": {
          "end_time": "2020-05-23T17:09:55.453314Z",
          "start_time": "2020-05-23T17:09:55.442307Z"
        },
        "id": "Rv9mwEqnbkBw",
        "colab": {
          "base_uri": "https://localhost:8080/"
        },
        "outputId": "c4e2f0d7-1ddc-48ab-8abf-2da337c92983"
      },
      "source": [
        "#b = np.array([1, 2, 3, 4])\n",
        "b = np.array([1] + list(np.zeros(3)))\n",
        "b"
      ],
      "execution_count": 12,
      "outputs": [
        {
          "output_type": "execute_result",
          "data": {
            "text/plain": [
              "array([1., 0., 0., 0.])"
            ]
          },
          "metadata": {},
          "execution_count": 12
        }
      ]
    },
    {
      "cell_type": "markdown",
      "metadata": {
        "id": "93LvEI6SbkCJ"
      },
      "source": [
        "Let's encode the vector now."
      ]
    },
    {
      "cell_type": "code",
      "metadata": {
        "ExecuteTime": {
          "end_time": "2020-05-23T17:09:55.469589Z",
          "start_time": "2020-05-23T17:09:55.459420Z"
        },
        "id": "BmeCpGXhbkCL",
        "colab": {
          "base_uri": "https://localhost:8080/",
          "height": 61
        },
        "outputId": "802b86c5-7a9c-4e79-e48b-6500c8f50387"
      },
      "source": [
        "p = encoder.sigma_inverse(b)\n",
        "p"
      ],
      "execution_count": 13,
      "outputs": [
        {
          "output_type": "execute_result",
          "data": {
            "text/plain": [
              "Polynomial([ 2.50000000e-01-1.31838984e-16j,  1.76776695e-01-1.76776695e-01j,\n",
              "        6.24500451e-17-2.50000000e-01j, -1.76776695e-01-1.76776695e-01j], domain=[-1,  1], window=[-1,  1], symbol='x')"
            ],
            "text/latex": "$x \\mapsto \\text{(0.24999999999999983-1.318389841742374e-16j)} + (\\text{(0.17677669529663695-0.176776695296637j)})\\,x + (\\text{(6.24500451351651e-17-0.25000000000000006j)})\\,x^{2} + (\\text{(-0.17677669529663667-0.176776695296637j)})\\,x^{3}$"
          },
          "metadata": {},
          "execution_count": 13
        }
      ]
    },
    {
      "cell_type": "markdown",
      "metadata": {
        "id": "oBXsGt3VbkCV"
      },
      "source": [
        "Let's see now how we can extract the vector we had initially from the polynomial:"
      ]
    },
    {
      "cell_type": "code",
      "metadata": {
        "ExecuteTime": {
          "end_time": "2020-05-23T17:09:55.486646Z",
          "start_time": "2020-05-23T17:09:55.475335Z"
        },
        "id": "FjmQZ5QobkCW",
        "colab": {
          "base_uri": "https://localhost:8080/"
        },
        "outputId": "24b761a8-587b-4317-d058-1a43ad7e454e"
      },
      "source": [
        "b_reconstructed = encoder.sigma(p)\n",
        "b_reconstructed"
      ],
      "execution_count": 14,
      "outputs": [
        {
          "output_type": "execute_result",
          "data": {
            "text/plain": [
              "array([ 1.00000000e+00+3.46944695e-17j, -5.55111512e-17+1.31838984e-16j,\n",
              "       -1.66533454e-16+6.93889390e-18j, -1.11022302e-16-4.85722573e-17j])"
            ]
          },
          "metadata": {},
          "execution_count": 14
        }
      ]
    },
    {
      "cell_type": "markdown",
      "metadata": {
        "id": "InXKBBHJbkCh"
      },
      "source": [
        "We can see that the reconstruction and the initial vector are very close."
      ]
    },
    {
      "cell_type": "code",
      "metadata": {
        "ExecuteTime": {
          "end_time": "2020-05-23T17:09:55.507427Z",
          "start_time": "2020-05-23T17:09:55.491379Z"
        },
        "id": "SWJzI3bdbkCi",
        "colab": {
          "base_uri": "https://localhost:8080/"
        },
        "outputId": "9f7bad35-b7b6-47ac-ab58-c14a618bba34"
      },
      "source": [
        "np.linalg.norm(b_reconstructed - b)"
      ],
      "execution_count": 15,
      "outputs": [
        {
          "output_type": "execute_result",
          "data": {
            "text/plain": [
              "2.5324586304240974e-16"
            ]
          },
          "metadata": {},
          "execution_count": 15
        }
      ]
    },
    {
      "cell_type": "markdown",
      "metadata": {
        "id": "doarDykubkCs"
      },
      "source": [
        "As stated before, $\\sigma$ is not chosen randomly to encode and decode, but has a lot of nice properties. Among them, $\\sigma$ is an isomorphism, therefore addition and multiplication on polynomials will result in coefficient wise addition and multiplication on the encoded vectors.\n",
        "\n",
        "The homomorphic property of $\\sigma$ is due to the fact that $X^N = 1$ and $\\xi^N = 1$.\n",
        "\n",
        "We can now start to encode several vectors, and see how we can perform homomorphic operations on them and decode it."
      ]
    },
    {
      "cell_type": "code",
      "metadata": {
        "ExecuteTime": {
          "end_time": "2020-05-23T17:09:55.519400Z",
          "start_time": "2020-05-23T17:09:55.512068Z"
        },
        "id": "162orLRvbkCw"
      },
      "source": [
        "m1 = np.array([1, 2, 3, 4])\n",
        "m2 = np.array([1, -2, 3, -4])"
      ],
      "execution_count": 16,
      "outputs": []
    },
    {
      "cell_type": "code",
      "metadata": {
        "ExecuteTime": {
          "end_time": "2020-05-23T17:09:55.533113Z",
          "start_time": "2020-05-23T17:09:55.522145Z"
        },
        "id": "EyCIhPkPbkC3"
      },
      "source": [
        "p1 = encoder.sigma_inverse(m1)\n",
        "p2 = encoder.sigma_inverse(m2)"
      ],
      "execution_count": 17,
      "outputs": []
    },
    {
      "cell_type": "markdown",
      "metadata": {
        "id": "Y_tX8wjKbkDC"
      },
      "source": [
        "We can see that addition is pretty straightforward."
      ]
    },
    {
      "cell_type": "code",
      "metadata": {
        "ExecuteTime": {
          "end_time": "2020-05-23T17:09:55.554656Z",
          "start_time": "2020-05-23T17:09:55.535927Z"
        },
        "id": "g0MdrkPXbkDF",
        "colab": {
          "base_uri": "https://localhost:8080/",
          "height": 61
        },
        "outputId": "7f0ce350-084c-415e-9ffb-2cd01ef85a72"
      },
      "source": [
        "p_add = p1 + p2\n",
        "p_add"
      ],
      "execution_count": 18,
      "outputs": [
        {
          "output_type": "execute_result",
          "data": {
            "text/plain": [
              "Polynomial([ 2.00000000e+00+1.11022302e-16j, -7.07106781e-01+7.07106781e-01j,\n",
              "        2.10942375e-15-2.00000000e+00j,  7.07106781e-01+7.07106781e-01j], domain=[-1.,  1.], window=[-1.,  1.], symbol='x')"
            ],
            "text/latex": "$x \\mapsto \\text{(2.0000000000000004+1.1102230246251565e-16j)} + (\\text{(-0.7071067811865477+0.707106781186547j)})\\,x + (\\text{(2.1094237467877966e-15-1.9999999999999996j)})\\,x^{2} + (\\text{(0.7071067811865466+0.707106781186549j)})\\,x^{3}$"
          },
          "metadata": {},
          "execution_count": 18
        }
      ]
    },
    {
      "cell_type": "markdown",
      "metadata": {
        "id": "s42mv_OAbkDP"
      },
      "source": [
        "Here as expected, we see that p1 + p2 decodes correctly to $[2, 0, 6, 0]$."
      ]
    },
    {
      "cell_type": "code",
      "metadata": {
        "ExecuteTime": {
          "end_time": "2020-05-23T17:09:55.570005Z",
          "start_time": "2020-05-23T17:09:55.559203Z"
        },
        "id": "huQhZh9ubkDS",
        "colab": {
          "base_uri": "https://localhost:8080/"
        },
        "outputId": "e13c27de-d314-4eb6-bfd7-8339be1e8047"
      },
      "source": [
        "encoder.sigma(p_add)"
      ],
      "execution_count": 19,
      "outputs": [
        {
          "output_type": "execute_result",
          "data": {
            "text/plain": [
              "array([2.0000000e+00+3.25176795e-17j, 4.4408921e-16-4.44089210e-16j,\n",
              "       6.0000000e+00+1.11022302e-16j, 4.4408921e-16+3.33066907e-16j])"
            ]
          },
          "metadata": {},
          "execution_count": 19
        }
      ]
    },
    {
      "cell_type": "markdown",
      "metadata": {
        "id": "a7OT6zlmbkDZ"
      },
      "source": [
        "Because when doing multiplication we might have terms whose degree is higher than $N$, we will need to do a modulo operation using $X^N + 1$."
      ]
    },
    {
      "cell_type": "markdown",
      "metadata": {
        "id": "2_wCAbsabkDZ"
      },
      "source": [
        "To perform multiplication, we first need to define the polynomial modulus which we will use."
      ]
    },
    {
      "cell_type": "code",
      "metadata": {
        "ExecuteTime": {
          "end_time": "2020-05-23T17:09:55.586175Z",
          "start_time": "2020-05-23T17:09:55.572615Z"
        },
        "id": "rL6PmMVUbkDb",
        "colab": {
          "base_uri": "https://localhost:8080/",
          "height": 39
        },
        "outputId": "26e64c27-4284-436f-ce31-8814beced382"
      },
      "source": [
        "poly_modulo = Polynomial([1,0,0,0,1])\n",
        "poly_modulo"
      ],
      "execution_count": 20,
      "outputs": [
        {
          "output_type": "execute_result",
          "data": {
            "text/plain": [
              "Polynomial([1., 0., 0., 0., 1.], domain=[-1,  1], window=[-1,  1], symbol='x')"
            ],
            "text/latex": "$x \\mapsto \\text{1.0}\\color{LightGray}{ + \\text{0.0}\\,x}\\color{LightGray}{ + \\text{0.0}\\,x^{2}}\\color{LightGray}{ + \\text{0.0}\\,x^{3}} + \\text{1.0}\\,x^{4}$"
          },
          "metadata": {},
          "execution_count": 20
        }
      ]
    },
    {
      "cell_type": "markdown",
      "metadata": {
        "id": "OOrLZYafbkDm"
      },
      "source": [
        "Now we can perform multiplication."
      ]
    },
    {
      "cell_type": "code",
      "metadata": {
        "ExecuteTime": {
          "end_time": "2020-05-23T17:09:55.598563Z",
          "start_time": "2020-05-23T17:09:55.588519Z"
        },
        "id": "I2sTYRijbkDn"
      },
      "source": [
        "p_mult = p1 * p2 % poly_modulo"
      ],
      "execution_count": 21,
      "outputs": []
    },
    {
      "cell_type": "markdown",
      "metadata": {
        "id": "V9RP68bVbkDs"
      },
      "source": [
        "Finally if we decode it, we can see that we have the expected result."
      ]
    },
    {
      "cell_type": "code",
      "metadata": {
        "ExecuteTime": {
          "end_time": "2020-05-23T17:09:55.614745Z",
          "start_time": "2020-05-23T17:09:55.601665Z"
        },
        "id": "2CgnSc3ObkDt",
        "colab": {
          "base_uri": "https://localhost:8080/"
        },
        "outputId": "b13253af-9bca-461d-b5f4-dad28ecf806a"
      },
      "source": [
        "encoder.sigma(p_mult)"
      ],
      "execution_count": 22,
      "outputs": [
        {
          "output_type": "execute_result",
          "data": {
            "text/plain": [
              "array([  1.-8.67361738e-16j,  -4.+6.86950496e-16j,   9.+6.86950496e-16j,\n",
              "       -16.-9.08301212e-15j])"
            ]
          },
          "metadata": {},
          "execution_count": 22
        }
      ]
    }
  ]
}