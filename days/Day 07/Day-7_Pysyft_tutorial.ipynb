{
 "cells": [
  {
   "cell_type": "markdown",
   "id": "46d7cef7-6286-4958-9ef1-d0ef7504d96d",
   "metadata": {},
   "source": [
    "![Descrição da Imagem](https://om-assets-h3f2axhubqdkbreg.z01.azurefd.net/docs-assets/gs3-project-proposal.png)\n"
   ]
  },
  {
   "cell_type": "markdown",
   "id": "3ee72a96-85df-4f38-8dd5-19e40a023aaf",
   "metadata": {},
   "source": [
    "# Part 3: Propose the Research Study"
   ]
  },
  {
   "cell_type": "markdown",
   "id": "a3147162-d383-4eea-9741-aa6d4878c6f8",
   "metadata": {},
   "source": [
    "### This is the first part of the workflow for **doing remote data science with PySyft on a private dataset**. We will change POV towards how Rachel would be able to interact with a Datasite as a data scientist, and how PySyft guarantees that non-public information would never be seen nor opened by external users. "
   ]
  },
  {
   "cell_type": "markdown",
   "id": "0596e5e9-be99-42f7-a1fd-dae7eaf5ffed",
   "metadata": {},
   "source": [
    "### Focus here: **preparing the research project**. This is the most thorough part, where the data scientist is involved all the way!"
   ]
  },
  {
   "cell_type": "markdown",
   "id": "02b0a4c8-66b5-48af-ab28-86d696f02e2b",
   "metadata": {},
   "source": [
    "### Same old same old -> Launch a local development Datasite, login and check if dataset is uploaded\n"
   ]
  },
  {
   "cell_type": "code",
   "execution_count": null,
   "id": "c923fe82-a31f-4580-8095-fe6b687dd09f",
   "metadata": {},
   "outputs": [],
   "source": [
    "import syft as sy\n",
    "\n",
    "data_site = sy.orchestra.launch(name=\"cancer-research-centre\")\n",
    "\n",
    "client = data_site.login(email=\"rachel@datascience.inst\", password=\"syftrocks\") #updated with NEW credentials created on the previous notebook\n",
    "\n",
    "client.datasets #check if \"Breast Cancer Biomarker\" dataset is in DataSite, that was done on the first notebook of this tutorial series"
   ]
  },
  {
   "cell_type": "markdown",
   "id": "3652bfe6-c0bb-4e57-aab5-384007e01e4d",
   "metadata": {},
   "source": [
    "### Acessing the dataset \"Breast Cancer Biomarker\" either by name or id & checking structure"
   ]
  },
  {
   "cell_type": "code",
   "execution_count": null,
   "id": "8c49a5f0-b0f3-47f5-8158-a820edd75818",
   "metadata": {},
   "outputs": [],
   "source": [
    "bc_dataset = client.datasets[\"Breast Cancer Biomarker\"]\n",
    "bc_dataset"
   ]
  },
  {
   "cell_type": "markdown",
   "id": "18ae1a2a-632c-424b-b0f4-51c9a789cbf1",
   "metadata": {},
   "source": [
    "Access its internal assets either by index or by their unique names. In our example, we can create a pointer to the features asset, and the targets asset"
   ]
  },
  {
   "cell_type": "code",
   "execution_count": null,
   "id": "021b52ac-c70f-4cd3-94a2-b27e6a794890",
   "metadata": {
    "scrolled": true
   },
   "outputs": [],
   "source": [
    "features, targets = bc_dataset.assets  \n",
    "\n",
    "#checking mock and real data values\n",
    "\n",
    "features.mock.head(n=3)  # pandas.DataFrame\n",
    "\n",
    "targets.mock.head(n=3)"
   ]
  },
  {
   "cell_type": "markdown",
   "id": "221a7fba-bae5-40ff-a044-1fac1797c6f8",
   "metadata": {},
   "source": [
    "And, as expected, Rachel cannot access the raw data!"
   ]
  },
  {
   "cell_type": "code",
   "execution_count": null,
   "id": "6be467fb-bc98-4a12-8218-0a9acc5ab9bf",
   "metadata": {
    "scrolled": true
   },
   "outputs": [],
   "source": [
    "features.data\n",
    "targets.data"
   ]
  },
  {
   "cell_type": "markdown",
   "id": "f7230335-9bd2-4988-a701-ecca1959f6c1",
   "metadata": {},
   "source": [
    "This clear distinction between the main components of an asset has the following advantages:\n",
    "\n",
    "  1.  **mock data is open-access** and imposes no risks to the data owner for sharing publicly non-public information;\n",
    "\n",
    "  2.  it creates a staging environment for the data scientist to simulate their intended study in a realistic way;\n",
    "\n",
    "  3.  **reduces liability** for the data scientist, who is not responsible anymore for storing safely non-public data;\n",
    "\n",
    "  4. enables the **data owner to control** how non-public assets can be used by data scientists for their study."
   ]
  },
  {
   "cell_type": "markdown",
   "id": "66bab652-20bb-4206-be0c-bfbcb908e29e",
   "metadata": {},
   "source": [
    "### Prepare code using public mock data"
   ]
  },
  {
   "cell_type": "markdown",
   "id": "6cbc5a01-21a1-4f86-a20b-c956b1cacd87",
   "metadata": {},
   "source": [
    "Rachel decides to study the breast cancer data by running a simple supervised machine learning experiment using `scikit-learn`.\n",
    "The dataset is already in the expected format, so we are good to go!"
   ]
  },
  {
   "cell_type": "markdown",
   "id": "5d8d8391-f9ed-40fe-a075-83a2aadb0ea8",
   "metadata": {},
   "source": [
    "In short, these are the steps of the machine learning experiment that Rachel has in mind:\n",
    "\n",
    " 1. use the **train_test_split** function to generate training and testing partitions;\n",
    "\n",
    " 2. apply **StandardScaler** to normalise features;\n",
    "\n",
    " 3. train a **LogisticRegression** model (since we are interested in predicting a binary variable **y** using numerical predictors **X**);\n",
    "\n",
    " 4. calculate **accuracy_score** on training, and testing data.\n"
   ]
  },
  {
   "cell_type": "code",
   "execution_count": 7,
   "id": "3063f134-18f3-455f-b27c-b655e89ed7a6",
   "metadata": {
    "scrolled": true
   },
   "outputs": [],
   "source": [
    "def ml_experiment_on_breast_cancer_data(features_data, labels, seed: int = 12345) -> tuple[float, float]:\n",
    "    # include the necessary imports in the main body of the function\n",
    "    # to prepare for what PySyft would expect for submitted code.\n",
    "\n",
    "    \n",
    "    from sklearn.model_selection import train_test_split\n",
    "    from sklearn.preprocessing import StandardScaler\n",
    "    from sklearn.linear_model import LogisticRegression\n",
    "    from sklearn.metrics import accuracy_score\n",
    "    \n",
    "    X, y = features_data, labels.values.ravel()\n",
    "    # 1. Data Partition\n",
    "    X_train, X_test, y_train, y_test = train_test_split(X, y, test_size=0.25, random_state=seed, stratify=y)\n",
    "    # 2. Data normalisation\n",
    "    scaler = StandardScaler()\n",
    "    scaler.fit(X_train, y_train)\n",
    "    X_train = scaler.transform(X_train)\n",
    "    X_test = scaler.transform(X_test)\n",
    "    # 3. Model training\n",
    "    model = LogisticRegression().fit(X_train, y_train)\n",
    "    # 4. Metrics Calculation\n",
    "    acc_train = accuracy_score(y_train, model.predict(X_train))\n",
    "    acc_test = accuracy_score(y_test, model.predict(X_test))\n",
    "    \n",
    "    return acc_train, acc_test"
   ]
  },
  {
   "cell_type": "code",
   "execution_count": null,
   "id": "c7435a88-6d98-48ca-ab45-db9cecd2afd5",
   "metadata": {
    "scrolled": true
   },
   "outputs": [],
   "source": [
    "#Checking if it works!\n",
    "\n",
    "X, y = features.mock, targets.mock\n",
    "\n",
    "ml_experiment_on_breast_cancer_data(features_data=X, labels=y)"
   ]
  },
  {
   "cell_type": "markdown",
   "id": "6cf7acf8-58c6-4dc6-83f8-525b6bc9f79c",
   "metadata": {},
   "source": [
    "Good to go!"
   ]
  },
  {
   "cell_type": "markdown",
   "id": "740ce1b6-7d04-4d07-8b74-ed398d6020fd",
   "metadata": {},
   "source": [
    "### Experimented modelling with mock data -> what about real data??"
   ]
  },
  {
   "cell_type": "markdown",
   "id": "e9f4eca5-3c4f-4eda-a3a3-04333d1d3096",
   "metadata": {},
   "source": [
    "Now, we would be interested in testing that function on real data, using PySyft. In prticular, we need to convert the transform our (local) Python function into a remote code request: a function that PySyft can process, and execute remotely on the Datasite, where real data are stored.\n",
    "\n",
    "To do so, we only need to wrap our Python function with a special decorator: `syft_function_single_use`! Takes two main parameters:\n",
    "\n",
    "- input_policy: submitted code will only run on the selected input assets;\n",
    "- output_policy: imposing an upper limit to the number of times a specified code is allowed to run;\n"
   ]
  },
  {
   "cell_type": "code",
   "execution_count": null,
   "id": "7ad9fa5a-58af-4af0-905d-d2db2d756613",
   "metadata": {},
   "outputs": [],
   "source": [
    "remote_user_code = sy.syft_function_single_use(features_data=features, labels=targets)(ml_experiment_on_breast_cancer_data)"
   ]
  },
  {
   "cell_type": "markdown",
   "id": "c8c4d91f-ff90-4de9-9dea-309141f1b27d",
   "metadata": {},
   "source": [
    "### Can submit our `remote_user_code` request -> Not so fast!"
   ]
  },
  {
   "cell_type": "markdown",
   "id": "cb3ab95f-9e54-4798-800d-7f9d4141875a",
   "metadata": {},
   "source": [
    "This would make things extremely difficult for Owen, as he would have no clue whatsoever about the intent of the code, nor of the study Rachel is willing to conduct!\n",
    "\n",
    "To overcome these issues, PySyft allows to create and submit a **research project**! In essence, a Project (i.e. syft.Project) is composed by one (or more) **code request(s)**, and includes a (short) description to communicate the intent of the study to the data owner."
   ]
  },
  {
   "cell_type": "markdown",
   "id": "c2273176-7a20-4e1d-a1f5-cb612b19c993",
   "metadata": {},
   "source": [
    "![Descrição da Imagem](https://om-assets-h3f2axhubqdkbreg.z01.azurefd.net/docs-assets/gs3-project-overview.png)\n"
   ]
  },
  {
   "cell_type": "code",
   "execution_count": null,
   "id": "a50c84ba-1a91-4d26-a232-23f50b43d535",
   "metadata": {},
   "outputs": [],
   "source": [
    "description = \"\"\"\n",
    "    The purpose of this study will be to run a machine learning\n",
    "    experimental pipeline on breast cancer data. \n",
    "    As first attempt, the pipelines includes a normalisation steps for \n",
    "    features and labels using a StandardScaler and a LabelEncoder. \n",
    "    The selected ML model is Logistic regression, with the intent\n",
    "    to gather the accuracy scores on both training, and testing \n",
    "    data partitions, randomly generated.\n",
    "\"\"\"\n",
    "\n",
    "# Create a project\n",
    "\n",
    "research_project = client.create_project(\n",
    "    name=\"Breast Cancer ML Project\",\n",
    "    description=description,\n",
    "    user_email_address=\"rachel@datascience.inst\"\n",
    ")"
   ]
  },
  {
   "cell_type": "code",
   "execution_count": null,
   "id": "2c32b16c-19c5-4b08-a45c-60cb378771db",
   "metadata": {},
   "outputs": [],
   "source": [
    "#check which projects are in the DataSite\n",
    "\n",
    "client.projects"
   ]
  },
  {
   "cell_type": "markdown",
   "id": "d93f6d4c-19bd-4aab-a104-d01cfe0cd0bb",
   "metadata": {},
   "source": [
    "Now, we can submit our `remote_user_code` request!!"
   ]
  },
  {
   "cell_type": "code",
   "execution_count": null,
   "id": "49445e8c-e062-4f60-9fc5-7ecb7c000c8a",
   "metadata": {},
   "outputs": [],
   "source": [
    "code_request = research_project.create_code_request(remote_user_code, client)\n",
    "\n",
    "#checking if it worked\n",
    "\n",
    "code_request"
   ]
  },
  {
   "cell_type": "markdown",
   "id": "e2b466f3-cd62-4555-9078-e0f0b985911b",
   "metadata": {},
   "source": [
    "We can now check that the code request has reached the project by accessing `client.code`:"
   ]
  },
  {
   "cell_type": "code",
   "execution_count": null,
   "id": "bf381582-3fa5-47ff-8914-4479d459c6f7",
   "metadata": {},
   "outputs": [],
   "source": [
    "client.code"
   ]
  },
  {
   "cell_type": "markdown",
   "id": "0a15a635-8b9a-46f1-8fc8-d0dc977f5434",
   "metadata": {},
   "source": [
    "We do indeed have a code request, in `PENDING` status. Similarly, we can review our existing requests, by accessing `client.requests`:"
   ]
  },
  {
   "cell_type": "code",
   "execution_count": null,
   "id": "b677f267-bddf-4e93-9410-9e41c5dbf0b7",
   "metadata": {},
   "outputs": [],
   "source": [
    "client.requests"
   ]
  },
  {
   "cell_type": "markdown",
   "id": "b6088ec5-a99c-4d4e-b521-7014e8c95c2f",
   "metadata": {},
   "source": [
    "### Before moving on"
   ]
  },
  {
   "cell_type": "markdown",
   "id": "ecf47653-a6ca-42ac-a4a1-1ca61aee1a42",
   "metadata": {},
   "source": [
    "Let’s say Rachel is very impatient, and would try to force the execution of a not-yet-approved (not-yet-reviewed) request. Does PySyft allow this?"
   ]
  },
  {
   "cell_type": "code",
   "execution_count": null,
   "id": "d870ff4e-6f58-492b-b006-c51c4da1a4a4",
   "metadata": {},
   "outputs": [],
   "source": [
    "client.code.ml_experiment_on_breast_cancer_data(features_data=features, labels=targets)"
   ]
  },
  {
   "cell_type": "markdown",
   "id": "52bca013-08d4-43d6-9446-4720889de5f4",
   "metadata": {},
   "source": [
    "**No!!**\n",
    "\n",
    "Same idea as before, Rachel cannot force the raw execution of a unapproved request!"
   ]
  }
 ],
 "metadata": {
  "kernelspec": {
   "display_name": "Python 3 (ipykernel)",
   "language": "python",
   "name": "python3"
  },
  "language_info": {
   "codemirror_mode": {
    "name": "ipython",
    "version": 3
   },
   "file_extension": ".py",
   "mimetype": "text/x-python",
   "name": "python",
   "nbconvert_exporter": "python",
   "pygments_lexer": "ipython3",
   "version": "3.10.15"
  }
 },
 "nbformat": 4,
 "nbformat_minor": 5
}
