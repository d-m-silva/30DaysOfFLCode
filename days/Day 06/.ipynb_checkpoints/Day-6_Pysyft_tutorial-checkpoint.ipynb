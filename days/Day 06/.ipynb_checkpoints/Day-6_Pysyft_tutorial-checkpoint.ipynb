{
 "cells": [
  {
   "cell_type": "markdown",
   "id": "997ad7b8-4785-49db-87df-cf785068f3ef",
   "metadata": {},
   "source": [
    "# Part 2: Clients and Datasite Access"
   ]
  },
  {
   "cell_type": "markdown",
   "id": "b9c0f6b9-0608-4476-b76f-c67571fe69b7",
   "metadata": {},
   "source": [
    "### **Reconnecting to the Datasite** -> Owen will have to configure the access credentials and policies, in order to enable Rachel to operate on the Datasite as Data Scientist"
   ]
  },
  {
   "cell_type": "markdown",
   "id": "384c35f2-8734-4a4d-90ad-92c219b1aa46",
   "metadata": {},
   "source": [
    "We explicitly define reset = False (default value) to **ensure persistency is restored**. In other words, when we reconnect to the Datasite, we will expect to find the “Breast Cancer Dataset” already uploaded on the Datasite. Also, we use the same value for the name parameter, namely name=\"cancer-research-centre\". \n",
    "\n",
    "## **Important:**\n",
    "\n",
    "- using the **same name** for the local development server will guarantee **continuity** and **persistency** throughout multiple instances;\n",
    "- **reset=True** parameter meant to be used only the **first time**, or when we want to re-initialise the whole server"
   ]
  },
  {
   "cell_type": "code",
   "execution_count": null,
   "id": "b32be508-d6a3-4851-80c5-5187badfe6ab",
   "metadata": {},
   "outputs": [],
   "source": [
    "import syft as sy\n",
    "\n",
    "data_site = sy.orchestra.launch(name=\"cancer-research-centre\", reset=False)\n",
    "\n",
    "# logging in as root client with default credentials\n",
    "client = data_site.login(email=\"info@openmined.org\", password=\"changethis\")\n",
    "\n",
    "#check if “Breast Cancer Dataset” is present and accessible through the available datasets\n",
    "\n",
    "client.datasets\n",
    "\n",
    "#It is!\n"
   ]
  },
  {
   "cell_type": "markdown",
   "id": "a8c7ecce-1468-4db0-81b6-ac059d237893",
   "metadata": {},
   "source": [
    " ### **Updating default admin credentials** \n",
    " \n",
    "Owen was initially using the credentials provided by default in PySyft. In order to setup the cancer-research-centre DataSite, he has to customise the access"
   ]
  },
  {
   "cell_type": "code",
   "execution_count": 30,
   "id": "2beb2876-4f3c-412b-9c21-97a2bda37e5d",
   "metadata": {
    "scrolled": true
   },
   "outputs": [
    {
     "name": "stdout",
     "output_type": "stream",
     "text": [
      "User owen@cancer-research.science already exists!\n"
     ]
    }
   ],
   "source": [
    "OWEN_EMAIL = \"owen@cancer-research.science\"\n",
    "OWEN_PASSWD = \"cancer_research_syft_admin\"\n",
    "\n",
    "#Procedure to ensure that running more than once this cell with the creation procedure doesn't result in error\n",
    "\n",
    "def user_exists(users, email):\n",
    "    \"\"\"\n",
    "    Check if a user with the specified email exists.\n",
    "\n",
    "    Parameters:\n",
    "        users (API module): All existing users.\n",
    "        email (str): The email of the user to search for.\n",
    "\n",
    "    Returns:\n",
    "        logical (bool): True if a user with the specified email exists, False otherwise.\n",
    "    \"\"\"\n",
    "    logical = False\n",
    "    for user in users:\n",
    "        if user.email == email:\n",
    "            logical = True # User with the email found\n",
    "            break\n",
    "            \n",
    "    return logical \n",
    "\n",
    "\n",
    "#All users\n",
    "users = client.users\n",
    "        \n",
    "if user_exists(users, OWEN_EMAIL):\n",
    "    print(f\"User {OWEN_EMAIL} already exists!\")\n",
    "\n",
    "else:\n",
    "\n",
    "    #setting email\n",
    "    client.account.set_email(OWEN_EMAIL)\n",
    "    \n",
    "    # setting password. To bypass the confirmation, use the confirm=False parameter -> NOT SAFE (meant for tutorial purposes)\n",
    "    client.account.set_password(OWEN_PASSWD, confirm=False)\n",
    "    \n",
    "    #After confirming the setting was successful, we update Owen's credentials:\n",
    "         \n",
    "    client.account.update(name=\"Owen, the Data Owner\", \n",
    "                     institution=\"Cancer Research Centre\")\n"
   ]
  },
  {
   "cell_type": "code",
   "execution_count": null,
   "id": "cb2dfc55-b185-40bb-b4df-45bea2a9c511",
   "metadata": {
    "scrolled": true
   },
   "outputs": [],
   "source": [
    "#test our new credentials by instantiating a new (root) client, and accessing registered users info\n",
    "\n",
    "client = data_site.login(email=OWEN_EMAIL, password=OWEN_PASSWD)\n",
    "\n",
    "client.users\n",
    "\n",
    "#Worked! From now on, the next time Owen’s will connect again to the Datasite, he will use these new set of credentials."
   ]
  },
  {
   "cell_type": "markdown",
   "id": "dd78c474-0fa3-4cff-9df0-7aada66e1db2",
   "metadata": {},
   "source": [
    "### **Register Rachel’s Account** -> Owen needs to solve is to allow Rachel to connect to the Datasite! \n",
    "\n",
    "In other words,  Owen needs to add a new user on the Datasite, to be registered with the role of Data Scientist!"
   ]
  },
  {
   "cell_type": "markdown",
   "id": "1bddfc20-7ccb-4e7b-9fc7-e1a6cf270cd5",
   "metadata": {},
   "source": [
    "We can use the `client.users.create()` function, which expects the following parameters:\n",
    "\n",
    "  -  `name` (type: str): mandatory\n",
    "\n",
    "  -  `email` (type: str): mandatory\n",
    "\n",
    "  -  `password` (type: str): mandatory\n",
    "\n",
    "  -  `password_verify` (type_str): mandatory\n",
    "\n",
    "  -  `institution` (type: str): optional\n",
    "\n",
    "  -  `website` (type: str): optional\n"
   ]
  },
  {
   "cell_type": "code",
   "execution_count": null,
   "id": "b4cb9aad-7487-41a7-8405-000f28a37478",
   "metadata": {
    "scrolled": true
   },
   "outputs": [],
   "source": [
    "RACHEL_EMAIL = \"rachel@datascience.inst\"\n",
    "users = client.users\n",
    "\n",
    "if user_exists(users, RACHEL_EMAIL):\n",
    "    print(f\"User {RACHEL_EMAIL} already exists!\")\n",
    "else:\n",
    "    rachel_account_info = client.users.create(\n",
    "        email=\"rachel@datascience.inst\",\n",
    "        name=\"Dr. Rachel Science\",\n",
    "        password=\"syftrocks\",\n",
    "        password_verify=\"syftrocks\",\n",
    "        institution=\"Data Science Institute\",\n",
    "        website=\"https://datascience_institute.research.data\"\n",
    "    )\n"
   ]
  },
  {
   "cell_type": "code",
   "execution_count": null,
   "id": "7d5a7c34-3fdc-4c95-ba4c-90246272196a",
   "metadata": {
    "scrolled": true
   },
   "outputs": [],
   "source": [
    "print(f\"New User: {rachel_account_info.name} ({rachel_account_info.email}) registered as {rachel_account_info.role}\")"
   ]
  },
  {
   "cell_type": "code",
   "execution_count": null,
   "id": "8d36b188-12f9-49ad-a450-efd047986158",
   "metadata": {},
   "outputs": [],
   "source": [
    "#To verify Rachel was added!\n",
    "client.users"
   ]
  }
 ],
 "metadata": {
  "kernelspec": {
   "display_name": "Python 3 (ipykernel)",
   "language": "python",
   "name": "python3"
  },
  "language_info": {
   "codemirror_mode": {
    "name": "ipython",
    "version": 3
   },
   "file_extension": ".py",
   "mimetype": "text/x-python",
   "name": "python",
   "nbconvert_exporter": "python",
   "pygments_lexer": "ipython3",
   "version": "3.10.15"
  }
 },
 "nbformat": 4,
 "nbformat_minor": 5
}
