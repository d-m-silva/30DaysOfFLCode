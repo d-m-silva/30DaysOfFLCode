{
 "cells": [
  {
   "cell_type": "markdown",
   "id": "4f7021b2-65f9-49f2-87dd-d8e93c863f37",
   "metadata": {},
   "source": [
    "# Part 4: Review Code Request"
   ]
  },
  {
   "cell_type": "markdown",
   "id": "86474a6c-345b-4336-90a5-06f430286803",
   "metadata": {},
   "source": [
    "![Code Review Workflow](https://om-assets-h3f2axhubqdkbreg.z01.azurefd.net/docs-assets/gs4-code-review-workflow.png)\n"
   ]
  },
  {
   "cell_type": "markdown",
   "id": "32fd4244-772e-4e3a-b993-5d13cc5dc437",
   "metadata": {},
   "source": [
    "### Focus here: **reviewing the research project**. By now, we have seen how Rachel could submit her research project through PySyft, which is now waiting for review by Owen, the data owner."
   ]
  },
  {
   "cell_type": "markdown",
   "id": "d1c12dc2-4f41-4cdb-b0e3-1ed3f4379798",
   "metadata": {},
   "source": [
    "### Same old same old -> Launch a local development Datasite, login and check (in this case) if **project** was uploaded\n"
   ]
  },
  {
   "cell_type": "code",
   "execution_count": null,
   "id": "40bee9a0-86e2-49ab-b289-f3c3fc0c800a",
   "metadata": {},
   "outputs": [],
   "source": [
    "import syft as sy\n",
    "\n",
    "data_site = sy.orchestra.launch(name=\"cancer-research-centre\")\n",
    "\n",
    "client = data_site.login(email=\"owen@cancer-research.science\", password=\"cancer_research_syft_admin\")\n",
    "\n",
    "client.projects #check if research project created on Day 7 was uploaded"
   ]
  },
  {
   "cell_type": "markdown",
   "id": "b87261a8-d15f-4ca2-b9ca-395a04e37a8b",
   "metadata": {},
   "source": [
    "Being uplodaded we can move on to checking more about the request. Existing requests can be accessed by `index`:\n"
   ]
  },
  {
   "cell_type": "code",
   "execution_count": null,
   "id": "7af76de8-7437-4220-b26a-b9b1dca0d523",
   "metadata": {},
   "outputs": [],
   "source": [
    "request = client.requests[0]\n",
    "request "
   ]
  },
  {
   "cell_type": "markdown",
   "id": "5c9b9715-55cd-46df-a6df-7ab100ef490f",
   "metadata": {},
   "source": [
    "Cool! We can immediately get a reference to the code associated to it. This code corresponds to the code submitted by the data scientist, and attached to the original project."
   ]
  },
  {
   "cell_type": "code",
   "execution_count": null,
   "id": "6e03acb5-940d-43c1-8c03-a726b11b76de",
   "metadata": {
    "scrolled": true
   },
   "outputs": [],
   "source": [
    "request.code"
   ]
  },
  {
   "cell_type": "markdown",
   "id": "7bf76b98-cd84-4f70-a4b1-8aabd5a73d4a",
   "metadata": {},
   "source": [
    "To check the code that Rachel did for her **model directly**:"
   ]
  },
  {
   "cell_type": "code",
   "execution_count": null,
   "id": "8f38afad-bc28-4929-81e4-1e10c4a76832",
   "metadata": {},
   "outputs": [],
   "source": [
    "# List all attributes and methods of object request.code\n",
    "\n",
    "dir(request.code)\n",
    "\n",
    "#.show_code seems to be good!!!\n",
    "\n",
    "request.code.show_code\n"
   ]
  },
  {
   "cell_type": "markdown",
   "id": "f1ea5fd1-d90b-4a6f-8a2b-eb8517ec940a",
   "metadata": {},
   "source": [
    "### After having reviewed the code, the next step for Owen would be to *execute* the code on both the **mock** and the **real** data of the assets specified in the submitted code."
   ]
  },
  {
   "cell_type": "markdown",
   "id": "d489b066-8a4e-4172-8a5f-db6c843b8cbf",
   "metadata": {},
   "source": [
    "**Note**: this is a simplification. We'll skip the step where code reviews must go through a security and privacy assessment before approval. To ensure the privacy is respected, the data owner must check the code abides to their own data release rules."
   ]
  },
  {
   "cell_type": "code",
   "execution_count": 32,
   "id": "52499095-4cf1-4278-b4da-f786cd3c716f",
   "metadata": {},
   "outputs": [],
   "source": [
    "syft_function = request.code #just to recognize that request.code can be thought as a syft_function!!\n",
    "\n",
    "bc_dataset = client.datasets[\"Breast Cancer Biomarker\"]\n",
    "features, labels = bc_dataset.assets"
   ]
  },
  {
   "cell_type": "markdown",
   "id": "354fb219-3dd8-4524-85b1-3dd821353bf4",
   "metadata": {},
   "source": [
    "At this point, the data owner can first run the `syft_function` on `features.mock` and `targets.mock`, and then repeating the same for `features.data` and `labels.data` (in this tutorial results are exactly the same as the same seed was used by Rachel!!)"
   ]
  },
  {
   "cell_type": "code",
   "execution_count": null,
   "id": "12e94b01-4594-4b5f-b10c-e44aab7200d9",
   "metadata": {
    "scrolled": true
   },
   "outputs": [],
   "source": [
    "result_mock_data = syft_function.run(features_data=features.mock, labels=labels.mock)\n",
    "result_mock_data"
   ]
  },
  {
   "cell_type": "markdown",
   "id": "211e3235-693a-4d28-a674-7a45395a399d",
   "metadata": {},
   "source": [
    "Cool, it executed successfully!! We can test the code on the real data, and replicate Rachel's results:"
   ]
  },
  {
   "cell_type": "code",
   "execution_count": null,
   "id": "2212bacc-6e9c-4713-9711-bf7a69d01fc3",
   "metadata": {},
   "outputs": [],
   "source": [
    "result_real_data = syft_function.run(features_data=features.data, labels=labels.data)\n",
    "result_real_data"
   ]
  },
  {
   "cell_type": "markdown",
   "id": "c02f0d60-ca33-4ee2-8e35-14d4906731ee",
   "metadata": {},
   "source": [
    "Code works fine!! Rachel’s function on the selected assets was successfully reviewed, checked, and tested.\n",
    "\n",
    "### Owen can proceed to **approve the code request**:"
   ]
  },
  {
   "cell_type": "code",
   "execution_count": null,
   "id": "8e1c1dee-1171-4d30-8125-f3257f05bcfc",
   "metadata": {
    "scrolled": true
   },
   "outputs": [],
   "source": [
    "request.approve()"
   ]
  },
  {
   "cell_type": "markdown",
   "id": "a9c3aa15-031c-4433-9f76-c73df362471c",
   "metadata": {},
   "source": [
    "And, of course, the request is gonna change status from **pending** to **approved**!!!"
   ]
  },
  {
   "cell_type": "code",
   "execution_count": null,
   "id": "ef8a8ed8-a197-47d8-91fd-2b22f541b849",
   "metadata": {},
   "outputs": [],
   "source": [
    "client.requests"
   ]
  },
  {
   "cell_type": "markdown",
   "id": "9f6640a8-c7e7-4913-a6f7-5ca9c862d316",
   "metadata": {},
   "source": [
    "# *********************************************************************************************************************************"
   ]
  },
  {
   "cell_type": "markdown",
   "id": "2dab6891-c70c-4103-8dd7-95791a790b55",
   "metadata": {
    "jupyter": {
     "source_hidden": true
    }
   },
   "source": [
    "![Code Review Workflow](https://om-assets-h3f2axhubqdkbreg.z01.azurefd.net/docs-assets/gs5-retrieve-results.png)\n"
   ]
  },
  {
   "cell_type": "markdown",
   "id": "45704647-6d0a-46c3-b674-7e30ebff1d64",
   "metadata": {},
   "source": [
    "# Part 5: Retrieving Results"
   ]
  },
  {
   "cell_type": "markdown",
   "id": "70f4e0d8-5660-4699-b989-d4e3f096aa67",
   "metadata": {},
   "source": [
    "### This is the last step of the tutorial!! It is finally the time for Rachel to check the status of her request and, if approved, to retrieve the results of the analysis she is expecting by running her code on the real (non-public) data."
   ]
  },
  {
   "cell_type": "markdown",
   "id": "782a30ee-7bfb-4cd4-a0ac-543735e8a060",
   "metadata": {},
   "source": [
    "As per usual, the first thing to do is always to log in to the Datasite"
   ]
  },
  {
   "cell_type": "code",
   "execution_count": null,
   "id": "8677039c-567e-425f-a604-16ef083775b0",
   "metadata": {},
   "outputs": [],
   "source": [
    "data_site = sy.orchestra.launch(name=\"cancer-research-centre\")\n",
    "\n",
    "client = data_site.login(email=\"rachel@datascience.inst\", password=\"syftrocks\")"
   ]
  },
  {
   "cell_type": "markdown",
   "id": "d46cc221-3619-4616-9d89-754d5988f0b8",
   "metadata": {},
   "source": [
    "Checking the status of our request -> Rachel needs to see that the project was approved!!"
   ]
  },
  {
   "cell_type": "code",
   "execution_count": null,
   "id": "959d0f63-8176-4329-b7a9-aa74c7dcc37d",
   "metadata": {},
   "outputs": [],
   "source": [
    "client.requests "
   ]
  },
  {
   "cell_type": "markdown",
   "id": "a244bec8-2af3-4789-8211-7c9b7029f322",
   "metadata": {},
   "source": [
    "As expected, Rachel can also see it was approved!!\n",
    "\n",
    "Now, we have to setup and run the research project"
   ]
  },
  {
   "cell_type": "code",
   "execution_count": null,
   "id": "e23663e5-9eba-45bc-a0b5-b3cad04f556d",
   "metadata": {
    "scrolled": true
   },
   "outputs": [],
   "source": [
    "bc_dataset = client.datasets[\"Breast Cancer Biomarker\"]\n",
    "features, labels = bc_dataset.assets\n",
    "\n",
    "result = client.code.ml_experiment_on_breast_cancer_data(features_data=features, labels=labels)\n",
    "\n",
    "print(result.get()) #IMPORTANT -> The answer object is on remote machine, you need to call get method on it to retrieve it!!!!!!!!!!\n"
   ]
  },
  {
   "cell_type": "markdown",
   "id": "61f31dac-c222-4028-9723-a4fc00a35b14",
   "metadata": {},
   "source": [
    "## *Et voilá.* Rachel finally did it!!!"
   ]
  }
 ],
 "metadata": {
  "kernelspec": {
   "display_name": "Python 3 (ipykernel)",
   "language": "python",
   "name": "python3"
  },
  "language_info": {
   "codemirror_mode": {
    "name": "ipython",
    "version": 3
   },
   "file_extension": ".py",
   "mimetype": "text/x-python",
   "name": "python",
   "nbconvert_exporter": "python",
   "pygments_lexer": "ipython3",
   "version": "3.10.15"
  }
 },
 "nbformat": 4,
 "nbformat_minor": 5
}
